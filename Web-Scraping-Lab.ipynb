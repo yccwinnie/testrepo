{
 "cells": [
  {
   "cell_type": "markdown",
   "metadata": {},
   "source": [
    "<p style=\"text-align:center\">\n",
    "    <a href=\"https://skills.network/?utm_medium=Exinfluencer&utm_source=Exinfluencer&utm_content=000026UJ&utm_term=10006555&utm_id=NA-SkillsNetwork-Channel-SkillsNetworkCoursesIBMDA0321ENSkillsNetwork928-2022-01-01\" target=\"_blank\">\n",
    "    <img src=\"https://cf-courses-data.s3.us.cloud-object-storage.appdomain.cloud/assets/logos/SN_web_lightmode.png\" width=\"200\" alt=\"Skills Network Logo\"  />\n",
    "    </a>\n",
    "</p>\n"
   ]
  },
  {
   "cell_type": "markdown",
   "metadata": {},
   "source": [
    "# **Hands-on Lab : Web Scraping**\n"
   ]
  },
  {
   "cell_type": "markdown",
   "metadata": {},
   "source": [
    "Estimated time needed: **30 to 45** minutes\n"
   ]
  },
  {
   "cell_type": "markdown",
   "metadata": {},
   "source": [
    "## Objectives\n"
   ]
  },
  {
   "cell_type": "markdown",
   "metadata": {},
   "source": [
    "In this lab you will perform the following:\n"
   ]
  },
  {
   "cell_type": "markdown",
   "metadata": {},
   "source": [
    "* Extract information from a given web site \n",
    "* Write the scraped data into a csv file.\n"
   ]
  },
  {
   "cell_type": "markdown",
   "metadata": {},
   "source": [
    "## Extract information from the given web site\n",
    "You will extract the data from the below web site: <br> \n"
   ]
  },
  {
   "cell_type": "code",
   "execution_count": 1,
   "metadata": {
    "tags": []
   },
   "outputs": [],
   "source": [
    "#this url contains the data you need to scrape\n",
    "url = \"https://cf-courses-data.s3.us.cloud-object-storage.appdomain.cloud/IBM-DA0321EN-SkillsNetwork/labs/datasets/Programming_Languages.html\""
   ]
  },
  {
   "cell_type": "markdown",
   "metadata": {},
   "source": [
    "The data you need to scrape is the **name of the programming language** and **average annual salary**.<br> It is a good idea to open the url in your web broswer and study the contents of the web page before you start to scrape.\n"
   ]
  },
  {
   "cell_type": "markdown",
   "metadata": {},
   "source": [
    "Import the required libraries\n"
   ]
  },
  {
   "cell_type": "code",
   "execution_count": 26,
   "metadata": {
    "tags": []
   },
   "outputs": [],
   "source": [
    "# Your code here\n",
    "from bs4 import BeautifulSoup\n",
    "import requests\n",
    "import pandas as pd\n"
   ]
  },
  {
   "cell_type": "markdown",
   "metadata": {},
   "source": [
    "Download the webpage at the url\n"
   ]
  },
  {
   "cell_type": "code",
   "execution_count": 9,
   "metadata": {
    "tags": []
   },
   "outputs": [],
   "source": [
    "#your code goes here\n",
    "r= requests.get(url).text"
   ]
  },
  {
   "cell_type": "markdown",
   "metadata": {},
   "source": [
    "Create a soup object\n"
   ]
  },
  {
   "cell_type": "code",
   "execution_count": 18,
   "metadata": {
    "tags": []
   },
   "outputs": [
    {
     "data": {
      "text/plain": [
       "'<!DOCTYPE html>\\n<html lang=\"en\">\\n <head>\\n  <title>\\n   Salary survey results of programming languages\\n  </title>\\n  <style>\\n   table, th, td {\\n  border: 1px solid black;\\n}\\n  </style>\\n </head>\\n <body>\\n  <hr/>\\n  <h2>\\n   Popular Programming Languages\\n  </h2>\\n  <hr/>\\n  <p>\\n   Finding out which is the best language is a tough task. A programming language is created to solve a specific problem. A language which is good for task A may not be able to properly handle task B. Comparing programming language is never easy. What we can do, however, is find which is popular in the industry.\\n  </p>\\n  <p>\\n   There are many ways to find the popularity of a programming languages. Counting the number of google searchs for each language is a simple way to find the popularity. GitHub and StackOverflow also can give some good pointers.\\n  </p>\\n  <p>\\n   Salary surveys are a way to find out the programmings languages that are most in demand in the industry. Below table is the result of one such survey. When using any survey keep in mind that the results vary year on year.\\n  </p>\\n  <hr/>\\n  <table>\\n   <tbody>\\n    <tr>\\n     <td>\\n      No.\\n     </td>\\n     <td>\\n      Language\\n     </td>\\n     <td>\\n      Created By\\n     </td>\\n     <td>\\n      Average Annual Salary\\n     </td>\\n     <td>\\n      Learning Difficulty\\n     </td>\\n    </tr>\\n    <tr>\\n     <td>\\n      1\\n     </td>\\n     <td>\\n      Python\\n     </td>\\n     <td>\\n      Guido van Rossum\\n     </td>\\n     <td>\\n      $114,383\\n     </td>\\n     <td>\\n      Easy\\n     </td>\\n    </tr>\\n    <tr>\\n     <td>\\n      2\\n     </td>\\n     <td>\\n      Java\\n     </td>\\n     <td>\\n      James Gosling\\n     </td>\\n     <td>\\n      $101,013\\n     </td>\\n     <td>\\n      Easy\\n     </td>\\n    </tr>\\n    <tr>\\n     <td>\\n      3\\n     </td>\\n     <td>\\n      R\\n     </td>\\n     <td>\\n      Robert Gentleman, Ross Ihaka\\n     </td>\\n     <td>\\n      $92,037\\n     </td>\\n     <td>\\n      Hard\\n     </td>\\n    </tr>\\n    <tr>\\n     <td>\\n      4\\n     </td>\\n     <td>\\n      Javascript\\n     </td>\\n     <td>\\n      Netscape\\n     </td>\\n     <td>\\n      $110,981\\n     </td>\\n     <td>\\n      Easy\\n     </td>\\n    </tr>\\n    <tr>\\n     <td>\\n      5\\n     </td>\\n     <td>\\n      Swift\\n     </td>\\n     <td>\\n      Apple\\n     </td>\\n     <td>\\n      $130,801\\n     </td>\\n     <td>\\n      Easy\\n     </td>\\n    </tr>\\n    <tr>\\n     <td>\\n      6\\n     </td>\\n     <td>\\n      C++\\n     </td>\\n     <td>\\n      Bjarne Stroustrup\\n     </td>\\n     <td>\\n      $113,865\\n     </td>\\n     <td>\\n      Hard\\n     </td>\\n    </tr>\\n    <tr>\\n     <td>\\n      7\\n     </td>\\n     <td>\\n      C#\\n     </td>\\n     <td>\\n      Microsoft\\n     </td>\\n     <td>\\n      $88,726\\n     </td>\\n     <td>\\n      Hard\\n     </td>\\n    </tr>\\n    <tr>\\n     <td>\\n      8\\n     </td>\\n     <td>\\n      PHP\\n     </td>\\n     <td>\\n      Rasmus Lerdorf\\n     </td>\\n     <td>\\n      $84,727\\n     </td>\\n     <td>\\n      Easy\\n     </td>\\n    </tr>\\n    <tr>\\n     <td>\\n      9\\n     </td>\\n     <td>\\n      SQL\\n     </td>\\n     <td>\\n      Donald D. Chamberlin, Raymond F. Boyce.\\n     </td>\\n     <td>\\n      $84,793\\n     </td>\\n     <td>\\n      Easy\\n     </td>\\n    </tr>\\n    <tr>\\n     <td>\\n      10\\n     </td>\\n     <td>\\n      Go\\n     </td>\\n     <td>\\n      Robert Griesemer, Ken Thompson, Rob Pike.\\n     </td>\\n     <td>\\n      $94,082\\n     </td>\\n     <td>\\n      Difficult\\n     </td>\\n    </tr>\\n   </tbody>\\n  </table>\\n  <hr/>\\n </body>\\n</html>'"
      ]
     },
     "execution_count": 18,
     "metadata": {},
     "output_type": "execute_result"
    }
   ],
   "source": [
    "#your code goes here\n",
    "soup = BeautifulSoup(r,'html.parser')\n",
    "soup.prettify()"
   ]
  },
  {
   "cell_type": "markdown",
   "metadata": {},
   "source": [
    "Scrape the `Language name` and `annual average salary`.\n"
   ]
  },
  {
   "cell_type": "code",
   "execution_count": 28,
   "metadata": {
    "tags": []
   },
   "outputs": [
    {
     "data": {
      "text/plain": [
       "['Language,Average Annual Salary',\n",
       " 'Python,$114383',\n",
       " 'Java,$101013',\n",
       " 'R,$92037',\n",
       " 'Javascript,$110981',\n",
       " 'Swift,$130801',\n",
       " 'C++,$113865',\n",
       " 'C#,$88726',\n",
       " 'PHP,$84727',\n",
       " 'SQL,$84793',\n",
       " 'Go,$94082']"
      ]
     },
     "execution_count": 28,
     "metadata": {},
     "output_type": "execute_result"
    }
   ],
   "source": [
    "#your code goes here\n",
    "Language_earn=[]\n",
    "for row in soup.find('tbody').find_all('tr'): # in html table row is represented by the tag <tr>\n",
    "    # Get all columns in each row.\n",
    "    cols = row.find_all('td') # in html a column is represented by the tag <td>\n",
    "    Language_name = cols[1].getText() # store the value in column 3 as color_name\n",
    "    Name= cols[2].getText()\n",
    "    Annual_average_salary = cols[3].getText() # store the value in column 4 as color_code\n",
    "    Language_earn.append(str(Language_name)+','+str(Annual_average_salary.replace(',','')))\n",
    "\n",
    "Language_earn"
   ]
  },
  {
   "cell_type": "markdown",
   "metadata": {},
   "source": [
    "Save the scrapped data into a file named *popular-languages.csv*\n"
   ]
  },
  {
   "cell_type": "code",
   "execution_count": 31,
   "metadata": {
    "tags": []
   },
   "outputs": [
    {
     "ename": "SyntaxError",
     "evalue": "unexpected EOF while parsing (182904876.py, line 4)",
     "output_type": "error",
     "traceback": [
      "\u001b[0;36m  File \u001b[0;32m\"/tmp/ipykernel_466/182904876.py\"\u001b[0;36m, line \u001b[0;32m4\u001b[0m\n\u001b[0;31m    Language_earn(int([Annual_average_salary]).max()\u001b[0m\n\u001b[0m                                                    ^\u001b[0m\n\u001b[0;31mSyntaxError\u001b[0m\u001b[0;31m:\u001b[0m unexpected EOF while parsing\n"
     ]
    }
   ],
   "source": [
    "# your code goes here\n",
    "df = pd.DataFrame(Language_earn)\n",
    "df.to_csv('popular-languages.csv', header=False, index=False)"
   ]
  },
  {
   "cell_type": "markdown",
   "metadata": {},
   "source": [
    "## Authors\n"
   ]
  },
  {
   "cell_type": "markdown",
   "metadata": {},
   "source": [
    "Ramesh Sannareddy\n"
   ]
  },
  {
   "cell_type": "markdown",
   "metadata": {},
   "source": [
    "### Other Contributors\n"
   ]
  },
  {
   "cell_type": "markdown",
   "metadata": {},
   "source": [
    "Rav Ahuja\n"
   ]
  },
  {
   "cell_type": "markdown",
   "metadata": {},
   "source": [
    "## Change Log\n"
   ]
  },
  {
   "cell_type": "markdown",
   "metadata": {},
   "source": [
    "|  Date (YYYY-MM-DD) |  Version | Changed By  |  Change Description |\n",
    "|---|---|---|---|\n",
    "| 2020-10-17  | 0.1  | Ramesh Sannareddy  |  Created initial version of the lab |\n"
   ]
  },
  {
   "cell_type": "markdown",
   "metadata": {},
   "source": [
    " Copyright &copy; 2020 IBM Corporation. This notebook and its source code are released under the terms of the [MIT License](https://cognitiveclass.ai/mit-license/?utm_medium=Exinfluencer&utm_source=Exinfluencer&utm_content=000026UJ&utm_term=10006555&utm_id=NA-SkillsNetwork-Channel-SkillsNetworkCoursesIBMDA0321ENSkillsNetwork928-2022-01-01).\n"
   ]
  }
 ],
 "metadata": {
  "kernelspec": {
   "display_name": "Python",
   "language": "python",
   "name": "conda-env-python-py"
  },
  "language_info": {
   "codemirror_mode": {
    "name": "ipython",
    "version": 3
   },
   "file_extension": ".py",
   "mimetype": "text/x-python",
   "name": "python",
   "nbconvert_exporter": "python",
   "pygments_lexer": "ipython3",
   "version": "3.7.12"
  }
 },
 "nbformat": 4,
 "nbformat_minor": 4
}
